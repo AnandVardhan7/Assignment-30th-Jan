{
 "cells": [
  {
   "cell_type": "code",
   "execution_count": 3,
   "id": "f74f80be-4860-4292-97b4-2bf48352d720",
   "metadata": {},
   "outputs": [],
   "source": [
    "#Write a program to accept percentage from the user and display the grade according to the following  criteria\n",
    "#>90 A\n",
    "#>80 and <=90  B\n",
    "# >=60 and <=80  C\n",
    "# Below 60   D"
   ]
  },
  {
   "cell_type": "code",
   "execution_count": 2,
   "id": "c61ba3e0-869b-40fc-8d88-0fdba3ff6e42",
   "metadata": {},
   "outputs": [
    {
     "name": "stdin",
     "output_type": "stream",
     "text": [
      "Enter you percentage 50\n"
     ]
    },
    {
     "name": "stdout",
     "output_type": "stream",
     "text": [
      "D\n"
     ]
    }
   ],
   "source": [
    "i= int(input(\"Enter you percentage\"))\n",
    "if i>90:\n",
    "    print(\"A\")\n",
    "elif i >80 and i<=90:\n",
    "    print(\"B\")\n",
    "elif i>=60 and i<=80:\n",
    "    print(\"C\")\n",
    "else:\n",
    "    print(\"D\")"
   ]
  },
  {
   "cell_type": "code",
   "execution_count": 5,
   "id": "75e981ba-d642-41e8-9555-79279ee6c808",
   "metadata": {},
   "outputs": [],
   "source": [
    "#Write a program to accept the cost price of a bike and display the road tax to be paid according\n",
    "#to the following criteria:\n",
    "\n",
    "# 15%   >100000\n",
    "# 10%   >50000 and <=100000\n",
    "# 5%    <= 50000"
   ]
  },
  {
   "cell_type": "code",
   "execution_count": 5,
   "id": "c448ce31-3460-4c7a-b57b-ab4af6df6f07",
   "metadata": {},
   "outputs": [
    {
     "name": "stdin",
     "output_type": "stream",
     "text": [
      "Enter the cost price of your bike 60000\n"
     ]
    },
    {
     "name": "stdout",
     "output_type": "stream",
     "text": [
      "10%\n"
     ]
    }
   ],
   "source": [
    "i= int(input(\"Enter the cost price of your bike\"))\n",
    "if i>100000:\n",
    "    print(\"15%\")\n",
    "elif i >50000 and i<=100000:\n",
    "    print(\"10%\")\n",
    "else:\n",
    "    print(\"5%\")"
   ]
  },
  {
   "cell_type": "code",
   "execution_count": 6,
   "id": "27d4f63b-9a24-4286-97cd-97a7566837e3",
   "metadata": {},
   "outputs": [],
   "source": [
    "#Accept any city  from the user and display monuments of that city\n",
    "# Delhi   Red Fort\n",
    "# Agra    Taj Mahal\n",
    "# Jaipur  Jal Mahal"
   ]
  },
  {
   "cell_type": "code",
   "execution_count": 7,
   "id": "3b9f7679-acca-49a9-b120-e9851cd8e784",
   "metadata": {},
   "outputs": [
    {
     "name": "stdin",
     "output_type": "stream",
     "text": [
      "Enter Your City Name: Agra\n"
     ]
    },
    {
     "name": "stdout",
     "output_type": "stream",
     "text": [
      "Taj Mahal\n"
     ]
    }
   ],
   "source": [
    "i= input(\"Enter Your City Name:\")\n",
    "if i==\"Delhi\":\n",
    "    print(\"Red Fort\")\n",
    "elif i==\"Agra\":\n",
    "    print(\"Taj Mahal\")\n",
    "elif i==\"Jaipur\":\n",
    "    print(\"Jal Mahal\")\n"
   ]
  },
  {
   "cell_type": "code",
   "execution_count": null,
   "id": "7f5b3fa0-4ad3-478f-95e4-789723da2ac3",
   "metadata": {},
   "outputs": [],
   "source": [
    "# Check how many times a given number can be divided by 3 before it is less than or equal to 10"
   ]
  },
  {
   "cell_type": "code",
   "execution_count": 2,
   "id": "869d5663-9682-4d00-9c00-840475c162a0",
   "metadata": {},
   "outputs": [
    {
     "name": "stdin",
     "output_type": "stream",
     "text": [
      "Enter number :  30\n"
     ]
    },
    {
     "name": "stdout",
     "output_type": "stream",
     "text": [
      "2\n"
     ]
    }
   ],
   "source": [
    "count = 0\n",
    "num = 0\n",
    "\n",
    "num = int(input(\"Enter number : \"))\n",
    "\n",
    "while num >= 10:\n",
    "    num = num / 3\n",
    "    count = count + 1\n",
    "print (count)"
   ]
  },
  {
   "cell_type": "code",
   "execution_count": 5,
   "id": "4ccd6e3e-d600-461a-8c89-5682ea14f6d3",
   "metadata": {},
   "outputs": [],
   "source": [
    "# Why and when to Use while loop in Python give a detailed description with example\n",
    "#Answer:A while loop will run a piece of code while a condition is True. \n",
    "#It will keep executing the desired set of code statements until that condition is no longer True."
   ]
  },
  {
   "cell_type": "code",
   "execution_count": null,
   "id": "15371342-4867-462d-bf40-5f2ebbf7ce04",
   "metadata": {},
   "outputs": [],
   "source": [
    "number = 0\n",
    "while number < 10:\n",
    "    print(f\"Number is {number}!\")\n",
    "    number = number + 1"
   ]
  },
  {
   "cell_type": "code",
   "execution_count": null,
   "id": "ca48fad8-8fd0-46d6-ba20-92232191e574",
   "metadata": {},
   "outputs": [],
   "source": [
    "#Use nested while loop to print 3 different pattern"
   ]
  },
  {
   "cell_type": "code",
   "execution_count": 4,
   "id": "1ee3b1db-50a4-40a3-a8dd-6423960b6c7c",
   "metadata": {},
   "outputs": [
    {
     "name": "stdin",
     "output_type": "stream",
     "text": [
      "Enter number of rows :  5\n"
     ]
    },
    {
     "name": "stdout",
     "output_type": "stream",
     "text": [
      "* * * * * \n",
      "* * * * \n",
      "* * * \n",
      "* * \n",
      "* \n"
     ]
    }
   ],
   "source": [
    "n = int(input('Enter number of rows : '))\n",
    " \n",
    "i = 1\n",
    "while i <= n :\n",
    "    j = n\n",
    "    while j >= i:\n",
    "        print(\"*\", end = \" \")\n",
    "        j -= 1\n",
    "    print()\n",
    "    i += 1"
   ]
  },
  {
   "cell_type": "code",
   "execution_count": null,
   "id": "55eaa2e5-b66a-461a-a24a-f751ca88342d",
   "metadata": {},
   "outputs": [],
   "source": [
    "#Reverse a while loop to display number from 10 to 1"
   ]
  },
  {
   "cell_type": "code",
   "execution_count": 3,
   "id": "15c00b40-e230-486d-993d-64dbc03565b3",
   "metadata": {},
   "outputs": [
    {
     "name": "stdout",
     "output_type": "stream",
     "text": [
      "10\n",
      "9\n",
      "8\n",
      "7\n",
      "6\n",
      "5\n",
      "4\n",
      "3\n",
      "2\n",
      "1\n"
     ]
    }
   ],
   "source": [
    "i = 10\n",
    "while i > 0:\n",
    "    print(i)\n",
    "    i = i - 1"
   ]
  },
  {
   "cell_type": "code",
   "execution_count": null,
   "id": "0b8c6cf8-a48d-497b-a814-a8818a871e70",
   "metadata": {},
   "outputs": [],
   "source": []
  }
 ],
 "metadata": {
  "kernelspec": {
   "display_name": "Python 3 (ipykernel)",
   "language": "python",
   "name": "python3"
  },
  "language_info": {
   "codemirror_mode": {
    "name": "ipython",
    "version": 3
   },
   "file_extension": ".py",
   "mimetype": "text/x-python",
   "name": "python",
   "nbconvert_exporter": "python",
   "pygments_lexer": "ipython3",
   "version": "3.10.8"
  }
 },
 "nbformat": 4,
 "nbformat_minor": 5
}
